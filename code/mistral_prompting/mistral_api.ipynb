{
 "cells": [
  {
   "cell_type": "code",
   "execution_count": null,
   "metadata": {},
   "outputs": [],
   "source": [
    "import os\n",
    "import pandas as pd\n",
    "from mistralai import Mistral\n",
    "import time\n",
    "\n",
    "# api_key = os.environ[\"MISTRAL_API_KEY\"]\n",
    "api_key = \"your-api-key\"\n",
    "model = \"mistral-small-latest\"\n",
    "\n",
    "client = Mistral(api_key=api_key)\n",
    "path = \"file_path\"\n",
    "\n",
    "df = pd.read_csv(path, sep=\",\")\n",
    "\n",
    "#tg\n",
    "# prompt = \"You will be provided with a text, and your task is to generate a target for this text. A target should be the topic on which the text is talking. The target can be a single word or a phrase, but its maximum length MUST be 4 words. The output should only be the target, NO OTHER WORDS or EXPLANATION.\"\n",
    "\n",
    "#sd\n",
    "# prompt = \"Stance classification is the task of determining the expressed or implied opinion, or stance, of a statement toward a certain, specified target. Analyze the following text and determine its stance towards the provided target. If the stance is in favor of the target, write FAVOR, if it is against the target write AGAINST and if it is ambiguous, write NONE. Only return the stance as a single word, NO OTHER WORDS or EXPLANATION.\"\n",
    "\n",
    "# tgnsd\n",
    "prompt = \"Stance classification is the task of determining the expressed or implied opinion, or stance, of a statement toward a certain, specified target. Analyze the following text, generate the target for this text, and determine its stance towards the generated target. A target should be the topic on which the text is talking. The target can be a single word or a phrase, but its maximum length MUST be 4 words. If the stance is in favor of the generated target, write FAVOR; if it is against the target, write AGAINST; if it is ambiguous, write NONE. The answer only has to be one of these three words: FAVOR, AGAINST, or NONE. The output format should be: ```Target: <target>, Stance: <stance>```. NO OTHER WORDS or EXPLANATION.\"\n",
    "\n",
    "responses = []\n",
    "count = 0\n",
    "\n",
    "for index, row in df.iterrows():\n",
    "    text = row[\"Text\"]\n",
    "    # target = row[\"mistral_target_tg_plus_sd\"]\n",
    "    # text_with_target = \"Text: \"+text+\"\\nTarget: \"+target\n",
    "    text = \"Text: \"+text\n",
    "    final_input = prompt+\"\\n\"+text\n",
    "\n",
    "    chat_response = client.chat.complete(model = model, messages = [{\"role\": \"user\", \"content\": final_input}])\n",
    "    response = chat_response.choices[0].message.content\n",
    "    responses.append(response)\n",
    "\n",
    "    count+=1\n",
    "    print(count)\n",
    "    time.sleep(3)\n",
    "\n",
    "df[\"mistral_tg_n_sd\"] = responses"
   ]
  },
  {
   "cell_type": "code",
   "execution_count": 12,
   "metadata": {},
   "outputs": [],
   "source": [
    "df.to_csv(path, index=False)"
   ]
  }
 ],
 "metadata": {
  "kernelspec": {
   "display_name": "opentarget-python3.9",
   "language": "python",
   "name": "opentarget"
  },
  "language_info": {
   "codemirror_mode": {
    "name": "ipython",
    "version": 3
   },
   "file_extension": ".py",
   "mimetype": "text/x-python",
   "name": "python",
   "nbconvert_exporter": "python",
   "pygments_lexer": "ipython3",
   "version": "3.9.19"
  }
 },
 "nbformat": 4,
 "nbformat_minor": 2
}
